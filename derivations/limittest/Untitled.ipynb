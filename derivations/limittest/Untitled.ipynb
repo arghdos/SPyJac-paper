{
 "cells": [
  {
   "cell_type": "code",
   "execution_count": null,
   "metadata": {},
   "outputs": [],
   "source": [
    "from __future__ import print_function\n",
    "from sympy import symbols, log, exp, limit, KroneckerDelta, diff, \\\n",
    "    Product, factor, Pow, Symbol, simplify, Limit, Mul, expand, init_printing, latex, collect, Add\n",
    "from optionloop import OptionLoop\n",
    "from IPython.display import Latex, Math\n",
    "\n",
    "init_printing()\n",
    "\n",
    "\n",
    "def __get_dci(fall_type='chem', blend_type='troe', pr_type='mix', var='E'):\n",
    "    # create temperature\n",
    "    T = symbols('T')\n",
    "\n",
    "    # create kf's\n",
    "    kf, kinf = symbols('k_{f} k_{\\\\inf}', real=True, nonnegative=True)\n",
    "\n",
    "    # create third body efficiency & volume\n",
    "    V, C, P = symbols('V [C] P', real=True, nonnegative=True)\n",
    "    Xi, alphaNS, alphaj = symbols('X_{i} \\\\alpha_{NS} \\\\alpha_{j}', real=True)\n",
    "\n",
    "    # species\n",
    "    m, Ns, j = symbols('m Ns j', integer=True, nonnegative=True)\n",
    "\n",
    "    # create pr\n",
    "    Pr = kf * Xi / kinf\n",
    "    R = 8.314\n",
    "\n",
    "    # create Fi & Troe params\n",
    "    if blend_type == 'troe':\n",
    "        T1, T2, T3, a = symbols('T_1 T_2 T_3 a', real=True)\n",
    "\n",
    "        Fcent = a * exp(-T / T1) + (1 - a) * exp(-T / T3) + exp(-T2 / T)\n",
    "        Atroe = -0.68 * log(Fcent, 10) + log(Pr, 10) - 0.4\n",
    "        Btroe = -1.1762 * log(Fcent, 10) - 0.14 * log(Pr, 10) + 0.806\n",
    "\n",
    "        Fi = Fcent ** (1 / (1 + (Atroe / Btroe)**2))\n",
    "    elif blend_type == 'sri':\n",
    "        a, b, c, d, e = symbols('a b c d e', real=True)\n",
    "        X = 1 / (log(Pr, 10) ** 2 + 1)\n",
    "        Fi = d * T**e * (a * exp(-b / T) + exp(-T / c)) ** X\n",
    "    elif blend_type == 'lind':\n",
    "        Fi = 1\n",
    "\n",
    "    # chemically activated form\n",
    "    if fall_type == 'chem':\n",
    "        ci = Fi / (1 + Pr)\n",
    "    elif fall_type == 'fall':\n",
    "        ci = Pr * Fi / (1 + Pr)\n",
    "\n",
    "    # now create derivative temporary products (assuming mixture)\n",
    "    if var == 'T':\n",
    "        b0, binf, e0, einf = symbols('b_0 b_{\\\\inf} e_0 e_{\\\\inf}', real=True)\n",
    "        if pr_type in ['mix', 'spec']:\n",
    "            Theta_Pr = (b0 - binf + e0 / (R * T) - einf / (R * T)) / T\n",
    "            if pr_type == 'mix':\n",
    "                theta_Pr = -C * kf * alphaNS / (T * kinf)\n",
    "            else:\n",
    "                theta_Pr = -C * kf * KroneckerDelta(m, Ns) / (T * kinf)\n",
    "        elif pr_type == 'unity':\n",
    "            Theta_Pr = (b0 - binf + e0 / (R * T) - einf / (R * T)) / T\n",
    "            theta_Pr = 0\n",
    "    elif var == 'nj':\n",
    "        Theta_Pr = 0\n",
    "        if pr_type == 'mix':\n",
    "            theta_Pr = alphaj - alphaNS\n",
    "        elif pr_type == 'unity':\n",
    "            theta_Pr = 0\n",
    "        elif pr_type == 'spec':\n",
    "            theta_Pr = KroneckerDelta(m, j) - KroneckerDelta(m, Ns)\n",
    "    elif var == 'V':\n",
    "        # conp derivative w.r.t. volume\n",
    "        if pr_type == 'mix':\n",
    "            Theta_Pr = -1 / V\n",
    "            theta_Pr = C * kf * alphaNS / (kinf * T)\n",
    "        elif pr_type == 'unity':\n",
    "            Theta_Pr = 0\n",
    "            theta_Pr = 0\n",
    "        elif pr_type == 'spec':\n",
    "            Theta_Pr = -1 / V\n",
    "            theta_Pr = C * kf * KroneckerDelta(m, Ns) / (kinf * T)\n",
    "    elif var == 'P':\n",
    "        Theta_Pr = 0\n",
    "        # conv derivative w.r.t. pressure\n",
    "        if pr_type == 'mix':\n",
    "            theta_Pr = kf * alphaNS / (kinf * R * T)\n",
    "        elif pr_type == 'unity':\n",
    "            theta_Pr = 0\n",
    "        elif pr_type == 'spec':\n",
    "            theta_Pr = kf * KroneckerDelta(m, Ns) / (kinf * R * T)\n",
    "\n",
    "    # now create blending function products\n",
    "    if blend_type == 'lind':\n",
    "        Theta_Fi = 0\n",
    "    elif blend_type == 'troe':\n",
    "        if var == 'T':\n",
    "            Theta_Fi = - Btroe / (Fcent * Pr * (Atroe**2 + Btroe**2)**2 * log(10)) * (\n",
    "                2 * Atroe * Fcent * (0.14 * Atroe + Btroe) * (\n",
    "                    Pr * Theta_Pr + theta_Pr) * log(Fcent) + Pr * diff(Fcent, T) * (\n",
    "                        2 * Atroe * (1.1762 * Atroe - 0.67 * Btroe) * log(Fcent) -\n",
    "                        Btroe * (Atroe**2 + Btroe**2) * log(10))\n",
    "            )\n",
    "        elif var == 'nj':\n",
    "            Theta_Fi = -2 * Atroe * Btroe * (0.14 * Atroe + Btroe) * log(Fcent) / (\n",
    "                Pr * (Atroe**2 + Btroe**2)**2 * log(10))\n",
    "        elif var == 'V':\n",
    "            Theta_Fi = (-2 * Atroe * Btroe * log(Fcent) /\n",
    "                        (Pr * (Atroe**2 + Btroe**2)**2 * log(10))) * \\\n",
    "                       (0.14 * Atroe + Btroe) * (Pr * Theta_Pr + theta_Pr)\n",
    "        elif var == 'P':\n",
    "            Theta_Fi = -2 * Atroe * Btroe * theta_Pr * (0.14 * Atroe + Btroe) * log(Fcent) / (\n",
    "                Pr * (Atroe**2 + Btroe**2)**2 * log(10))\n",
    "    elif blend_type == 'sri':\n",
    "        if var == 'T':\n",
    "            Theta_Fi = -X * (exp(-T / c) / c - a * b * exp(-b / T) / (T**2)) / (\n",
    "                a * exp(-b / T) + exp(-T / c)) + e / T - ((\n",
    "                    2 * X**2 * log(a * exp(-b / T) + exp(-T / c))) / (Pr * log(10)**2) * (\n",
    "                    (Theta_Pr * Pr + theta_Pr) * log(Pr))\n",
    "            )\n",
    "        elif var == 'nj':\n",
    "            Theta_Fi = -2 * X**2 * \\\n",
    "                log(a * exp(-b / T) + exp(-T / c)) * \\\n",
    "                log(Pr) / (Pr * log(10)**2)\n",
    "        elif var == 'V':\n",
    "            Theta_Fi = (-2 * X**2 * log(Pr) / (Pr * log(10)**2)) * (Theta_Pr * Pr + theta_Pr) * log(\n",
    "                (a * exp(T / c) + exp(b / T)) * exp(-T / c - b / T))\n",
    "        elif var == 'P':\n",
    "            Theta_Pr = (-2 * X**2 * theta_Pr * log(Pr) /\n",
    "                        (Pr * log(10)**2)) * log(a * exp(-b / T) + exp(-T / c))\n",
    "\n",
    "    # and finally give dci\n",
    "    if var == 'T':\n",
    "        if fall_type == 'fall':\n",
    "            dci = Fi * theta_Pr / (Pr + 1) + (-Pr * Theta_Pr / (Pr + 1) + Theta_Fi +\n",
    "                                              Theta_Pr - theta_Pr / (Pr + 1)) * ci\n",
    "        elif fall_type == 'chem':\n",
    "            dci = (-Pr * Theta_Fi / (Pr + 1) +\n",
    "                   Theta_Fi - theta_Pr / (Pr + 1)) * ci\n",
    "    elif var == 'nj':\n",
    "        if fall_type == 'fall':\n",
    "            dci = (kf * theta_Pr / (V * kinf * (Pr + 1))) * \\\n",
    "                (Fi * (Pr * Theta_Fi + 1) - ci)\n",
    "        elif fall_type == 'chem':\n",
    "            dci = kf * theta_Pr * (Fi * Theta_Fi - ci) / (kinf * V * (Pr + 1))\n",
    "    elif var == 'V':\n",
    "        if fall_type == 'fall':\n",
    "            dci = Fi * theta_Pr / (Pr + 1) + (-Pr * Theta_Pr / (Pr + 1) + Theta_Fi +\n",
    "                                              Theta_Pr - theta_Pr / (Pr + 1)) * ci\n",
    "        elif fall_type == 'chem':\n",
    "            dci = (-Pr * Theta_Pr / (Pr + 1) +\n",
    "                   Theta_Fi - theta_Pr / (Pr + 1)) * ci\n",
    "    elif var == 'P':\n",
    "        if fall_type == 'fall':\n",
    "            dci = Fi * theta_Pr / (Pr + 1) + \\\n",
    "                (Theta_Fi - theta_Pr / (Pr + 1)) * ci\n",
    "        elif fall_type == 'chem':\n",
    "            dci = (Theta_Fi - theta_Pr / (Pr + 1)) * ci\n",
    "    return Xi, dci"
   ]
  },
  {
   "cell_type": "code",
   "execution_count": null,
   "metadata": {},
   "outputs": [],
   "source": [
    "def display(arg):\n",
    "    return Math(latex(arg))"
   ]
  },
  {
   "cell_type": "code",
   "execution_count": null,
   "metadata": {},
   "outputs": [],
   "source": [
    "xi, dci = __get_dci(fall_type='chem', blend_type='troe', pr_type='mix', var='T')\n",
    "display(simplify(dci.subs(xi, 0)))"
   ]
  },
  {
   "cell_type": "code",
   "execution_count": null,
   "metadata": {},
   "outputs": [],
   "source": [
    "xi, dci = __get_dci(fall_type='fall', blend_type='troe', pr_type='mix', var='T')\n",
    "display(simplify(dci.subs(xi, 0)))"
   ]
  },
  {
   "cell_type": "code",
   "execution_count": null,
   "metadata": {},
   "outputs": [],
   "source": [
    "xi, dci = __get_dci(fall_type='chem', blend_type='lind', pr_type='mix', var='T')\n",
    "display(simplify(dci.subs(xi, 0)))"
   ]
  },
  {
   "cell_type": "code",
   "execution_count": null,
   "metadata": {},
   "outputs": [],
   "source": [
    "xi, dci = __get_dci(fall_type='fall', blend_type='lind', pr_type='mix', var='T')\n",
    "display(simplify(dci.subs(xi, 0)))"
   ]
  },
  {
   "cell_type": "code",
   "execution_count": null,
   "metadata": {},
   "outputs": [],
   "source": [
    "xi, dci = __get_dci(fall_type='chem', blend_type='sri', pr_type='mix', var='T')\n",
    "display(simplify(dci.subs(xi, 0)))"
   ]
  },
  {
   "cell_type": "code",
   "execution_count": null,
   "metadata": {},
   "outputs": [],
   "source": [
    "xi, dci = __get_dci(fall_type='fall', blend_type='sri', pr_type='mix', var='T')\n",
    "display(simplify(dci.subs(xi, 0)))"
   ]
  },
  {
   "cell_type": "code",
   "execution_count": null,
   "metadata": {},
   "outputs": [],
   "source": [
    "xi, dci = __get_dci(fall_type='chem', blend_type='lind', pr_type='mix', var='nj')\n",
    "display(simplify(dci.subs(xi, 0)))"
   ]
  },
  {
   "cell_type": "code",
   "execution_count": null,
   "metadata": {},
   "outputs": [],
   "source": [
    "xi, dci = __get_dci(fall_type='fall', blend_type='lind', pr_type='mix', var='nj')\n",
    "display(simplify(dci.subs(xi, 0)))"
   ]
  },
  {
   "cell_type": "code",
   "execution_count": null,
   "metadata": {},
   "outputs": [],
   "source": [
    "xi, dci = __get_dci(fall_type='chem', blend_type='troe', pr_type='mix', var='nj')\n",
    "display(simplify(dci.subs(xi, 0)))"
   ]
  },
  {
   "cell_type": "code",
   "execution_count": null,
   "metadata": {},
   "outputs": [],
   "source": [
    "xi, dci = __get_dci(fall_type='fall', blend_type='troe', pr_type='mix', var='nj')\n",
    "display(simplify(dci.subs(xi, 0)))"
   ]
  },
  {
   "cell_type": "code",
   "execution_count": null,
   "metadata": {},
   "outputs": [],
   "source": [
    "xi, dci = __get_dci(fall_type='chem', blend_type='sri', pr_type='mix', var='nj')\n",
    "display(simplify(dci.subs(xi, 0)))"
   ]
  },
  {
   "cell_type": "code",
   "execution_count": null,
   "metadata": {},
   "outputs": [],
   "source": [
    "xi, dci = __get_dci(fall_type='fall', blend_type='sri', pr_type='mix', var='nj')\n",
    "display(simplify(dci.subs(xi, 0)))"
   ]
  },
  {
   "cell_type": "code",
   "execution_count": null,
   "metadata": {},
   "outputs": [],
   "source": [
    "xi, dci = __get_dci(fall_type='fall', blend_type='sri', pr_type='mix', var='nj')\n",
    "display(simplify(dci.subs(xi, 0)))"
   ]
  }
 ],
 "metadata": {
  "language_info": {
   "name": "python",
   "pygments_lexer": "ipython3"
  }
 },
 "nbformat": 4,
 "nbformat_minor": 2
}
